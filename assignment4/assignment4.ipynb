{
 "cells": [
  {
   "cell_type": "code",
   "execution_count": 1,
   "id": "64c4bd1c",
   "metadata": {},
   "outputs": [
    {
     "name": "stdout",
     "output_type": "stream",
     "text": [
      "\n",
      " Please select operation -\n",
      "1. Add\n",
      "2. Subtract\n",
      "3. Multiply\n",
      "4. Divide\n",
      "5. Power\n",
      "\n",
      "Select operations form 1, 2, 3, 4, 5 :1\n",
      "Enter first number: 5\n",
      "Enter second number: 3\n",
      "5 + 3 = 8\n"
     ]
    }
   ],
   "source": [
    "# Function to add two numbers\n",
    "def add(num1, num2):\n",
    "    return num1 + num2\n",
    "\n",
    "# Function to subtract two numbers\n",
    "def subtract(num1, num2):\n",
    "    return num1 - num2\n",
    "\n",
    "# Function to multiply two numbers\n",
    "def multiply(num1, num2):\n",
    "    return num1 * num2\n",
    "\n",
    "# Function to divide two numbers\n",
    "def divide(num1, num2):\n",
    "    return num1 / num2\n",
    "def power(num1, num2):\n",
    "    return num1**num2\n",
    "\n",
    "print(\"\\n Please select operation -\\n\" \\\n",
    "      \"1. Add\\n\" \\\n",
    "      \"2. Subtract\\n\" \\\n",
    "      \"3. Multiply\\n\" \\\n",
    "      \"4. Divide\\n\"\n",
    "      \"5. Power\\n\")\n",
    "\n",
    "# Take input from the user\n",
    "select = int(input(\"Select operations form 1, 2, 3, 4, 5 :\"))\n",
    "\n",
    "number_1 = int(input(\"Enter first number: \"))\n",
    "number_2 = int(input(\"Enter second number: \"))\n",
    "\n",
    "if select == 1:\n",
    "    print(number_1, \"+\", number_2, \"=\",\n",
    "          add(number_1, number_2))\n",
    "\n",
    "elif select == 2:\n",
    "    print(number_1, \"-\", number_2, \"=\",\n",
    "          subtract(number_1, number_2))\n",
    "\n",
    "elif select == 3:\n",
    "    print(number_1, \"*\", number_2, \"=\",\n",
    "          multiply(number_1, number_2))\n",
    "\n",
    "elif select == 4:\n",
    "    print(number_1, \"/\", number_2, \"=\",\n",
    "          divide(number_1, number_2))\n",
    "elif select == 5:\n",
    "    print(number_1, \"**\", number_2, \"=\",\n",
    "          power(number_1, number_2))\n",
    "else:\n",
    "    print(\"Invalid input\")\n"
   ]
  },
  {
   "cell_type": "code",
   "execution_count": 2,
   "id": "6a46f3e2",
   "metadata": {},
   "outputs": [
    {
     "name": "stdout",
     "output_type": "stream",
     "text": [
      "Numeric Value in List is = 4\n"
     ]
    }
   ],
   "source": [
    "\n",
    "#2\n",
    "list = [\"abc\", \"def\", 4, \"ghi\"]\n",
    "for x in list:\n",
    "    if type(x) == int:\n",
    "        print(\"Numeric Value in List is = \"+str(x))\n"
   ]
  },
  {
   "cell_type": "code",
   "execution_count": 3,
   "id": "0fa13c36",
   "metadata": {},
   "outputs": [
    {
     "name": "stdout",
     "output_type": "stream",
     "text": [
      "Current Dict is:  {'key1': 'python', 'value': 'programming'}\n",
      "Updated Dict is:  {'key1': 'python', 'value': 'programming', 'key2': 'language', 'key3': 'Data Science'}\n"
     ]
    }
   ],
   "source": [
    "\n",
    "#3\n",
    "dict = {'key1': 'python', 'value': 'programming'}\n",
    "print(\"Current Dict is: \", dict)\n",
    "\n",
    "dict['key2'] = 'language'\n",
    "dict['key3'] = 'Data Science'\n",
    "print(\"Updated Dict is: \", dict)\n"
   ]
  },
  {
   "cell_type": "code",
   "execution_count": 4,
   "id": "ec985c2e",
   "metadata": {},
   "outputs": [
    {
     "name": "stdout",
     "output_type": "stream",
     "text": [
      "Sum of dictionary is : 1100\n"
     ]
    }
   ],
   "source": [
    "#4\n",
    "# Function to print sum in dictionary\n",
    "def returnSum(myDict):\n",
    "    list = []\n",
    "    for i in myDict:\n",
    "        list.append(myDict[i])\n",
    "    final = sum(list)\n",
    "\n",
    "    return final\n",
    "dict = {'a': 500, 'b': 200, 'c': 400}\n",
    "print(\"Sum of dictionary is :\", returnSum(dict))\n"
   ]
  },
  {
   "cell_type": "code",
   "execution_count": 5,
   "id": "2c50751d",
   "metadata": {},
   "outputs": [
    {
     "name": "stdout",
     "output_type": "stream",
     "text": [
      "2 3 4 5 "
     ]
    }
   ],
   "source": [
    "\n",
    "#5  Duplicate Values from List\n",
    "l=[1,2,3,4,5,2,3,4,7,9,5]\n",
    "l1=[]\n",
    "for i in l:\n",
    "    if i not in l1:\n",
    "        l1.append(i)\n",
    "    else:\n",
    "        print(i, end= ' ')\n"
   ]
  },
  {
   "cell_type": "code",
   "execution_count": 6,
   "id": "e297aee7",
   "metadata": {},
   "outputs": [
    {
     "name": "stdout",
     "output_type": "stream",
     "text": [
      "\n",
      "\n",
      "Enter key to check:a\n",
      "Key is present and value of the key is:\n",
      "1\n"
     ]
    }
   ],
   "source": [
    "#6 Check if a given key already exist in dictionary\n",
    "print(\"\\n\")\n",
    "d={'a':1,'b':2,'c':3}\n",
    "key=input(\"Enter key to check:\")\n",
    "if key in d.keys():\n",
    "      print(\"Key is present and value of the key is:\")\n",
    "      print(d[key])\n",
    "else:\n",
    "      print(\"Key isn't present!\")"
   ]
  },
  {
   "cell_type": "code",
   "execution_count": null,
   "id": "1866ddf1",
   "metadata": {},
   "outputs": [],
   "source": []
  }
 ],
 "metadata": {
  "kernelspec": {
   "display_name": "Python 3",
   "language": "python",
   "name": "python3"
  },
  "language_info": {
   "codemirror_mode": {
    "name": "ipython",
    "version": 3
   },
   "file_extension": ".py",
   "mimetype": "text/x-python",
   "name": "python",
   "nbconvert_exporter": "python",
   "pygments_lexer": "ipython3",
   "version": "3.8.8"
  }
 },
 "nbformat": 4,
 "nbformat_minor": 5
}
