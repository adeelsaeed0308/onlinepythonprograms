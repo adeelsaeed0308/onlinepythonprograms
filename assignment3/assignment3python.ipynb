{
 "cells": [
  {
   "cell_type": "code",
   "execution_count": 1,
   "id": "f21e850f",
   "metadata": {},
   "outputs": [
    {
     "name": "stdout",
     "output_type": "stream",
     "text": [
      "Twinkle twinkle little star\n",
      "\tHow i wonder what you are\n",
      "\t\tUp above the world so high,\n",
      "\t\tLike a Dimond in the SKy twinkle\n",
      "twinkle little star\n",
      "\thow i wonder what you are\n"
     ]
    }
   ],
   "source": [
    "import sys\n",
    "from datetime import datetime\n",
    "from math import pi\n",
    "\n",
    "#Q1\n",
    "print(\"Twinkle twinkle little star\\n\\tHow i wonder what you are\\n\\t\\tUp above the world so high,\"\n",
    "      \"\\n\\t\\tLike a Dimond in the SKy twinkle\\ntwinkle little star\\n\\thow i wonder what you are\")"
   ]
  },
  {
   "cell_type": "code",
   "execution_count": 2,
   "id": "88e10928",
   "metadata": {},
   "outputs": [
    {
     "name": "stdout",
     "output_type": "stream",
     "text": [
      "Python version= 3.8.8 (default, Apr 13 2021, 15:08:03) [MSC v.1916 64 bit (AMD64)]\n"
     ]
    }
   ],
   "source": [
    "#Q2:- python version\n",
    "print(\"Python version= \"+sys.version)\n"
   ]
  },
  {
   "cell_type": "code",
   "execution_count": 3,
   "id": "74fc0cf9",
   "metadata": {},
   "outputs": [
    {
     "name": "stdout",
     "output_type": "stream",
     "text": [
      "2021-10-24 11:30:23.432378\n",
      "Now Date and Time is= 11:30:23 24/10/21\n"
     ]
    }
   ],
   "source": [
    "#Q3:- Date and Time\n",
    "time_date=datetime.now()\n",
    "print(time_date)\n",
    "#H:M:S  dd/mm/yy\n",
    "dt_string=time_date.strftime(\"%H:%M:%S %d/%m/%y\")\n",
    "print(\"Now Date and Time is= \"+ dt_string)\n"
   ]
  },
  {
   "cell_type": "code",
   "execution_count": 4,
   "id": "697a9e39",
   "metadata": {},
   "outputs": [
    {
     "name": "stdout",
     "output_type": "stream",
     "text": [
      "Enter radius of the circle= 2\n",
      "Area of the circle is: 12.566370614359172\n"
     ]
    }
   ],
   "source": [
    "#Q4 Radius of Circle\n",
    "radius=float(input(\"Enter radius of the circle= \"))\n",
    "print(\"Area of the circle is: \"+str(pi*radius**2))\n"
   ]
  },
  {
   "cell_type": "code",
   "execution_count": 5,
   "id": "8dc1c614",
   "metadata": {},
   "outputs": [
    {
     "name": "stdout",
     "output_type": "stream",
     "text": [
      "Enter First Name: adeel\n",
      "Enter Last Name: saeed\n",
      "saeed adeel\n"
     ]
    }
   ],
   "source": [
    "#Q5 User First and Last Name\n",
    "first=input(\"Enter First Name: \")\n",
    "last=input(\"Enter Last Name: \")\n",
    "print(last+\" \"+first)\n"
   ]
  },
  {
   "cell_type": "code",
   "execution_count": 7,
   "id": "13a2b910",
   "metadata": {},
   "outputs": [
    {
     "name": "stdout",
     "output_type": "stream",
     "text": [
      "Enter number1= 10\n",
      "Enter number2= 20\n",
      "sum is= 30.0\n"
     ]
    }
   ],
   "source": [
    "#Q6 Addition\n",
    "num1=float(input(\"Enter number1= \"))\n",
    "num2=float(input(\"Enter number2= \"))\n",
    "num3=num1+num2\n",
    "print(\"sum is= \"+str(num3))\n"
   ]
  },
  {
   "cell_type": "code",
   "execution_count": 8,
   "id": "432a9ac6",
   "metadata": {},
   "outputs": [
    {
     "name": "stdout",
     "output_type": "stream",
     "text": [
      "Enter english marks= 88\n",
      "A grade in english and marks is= 88\n",
      "Enter Islamiat marks= 77\n",
      "B grade in Islamiat and marks is= 77\n",
      "Enter math marks= 66\n",
      "C grade in Math and marks is= 66\n",
      "Enter chemistry marks= 55\n",
      "D grade in Chemistry and marks is= 55\n",
      "Enter Physics marks= 44\n",
      "E grade in physics and marks is= 44\n",
      "Total marks is= 330\n"
     ]
    }
   ],
   "source": [
    "#Q7 Input 5 subjects and enter grades\n",
    "eng_marks=int(input(\"Enter english marks= \"))\n",
    "if eng_marks>=80 and eng_marks<=100:\n",
    "    print(\"A grade in english and marks is= \"+str(eng_marks))\n",
    "elif eng_marks>=70 and eng_marks<80:\n",
    "    print(\"B grade in english and marks is= \"+str(eng_marks))\n",
    "elif eng_marks>=60 and eng_marks<70:\n",
    "    print(\"C grade in english and marks is= \"+str(eng_marks))\n",
    "elif eng_marks>=50 and eng_marks<60:\n",
    "    print(\"D grade in english and marks is= \"+str(eng_marks))\n",
    "elif eng_marks>=33 and eng_marks<50:\n",
    "    print(\"E grade in english and marks is= \"+str(eng_marks))\n",
    "else:print(\"Fail in english and marks is\"+str(eng_marks))\n",
    "isl_marks=int(input(\"Enter Islamiat marks= \"))\n",
    "if isl_marks>=80 and isl_marks<=100:\n",
    "    print(\"A grade in Islamiat and marks is= \"+str(isl_marks))\n",
    "elif isl_marks>=70 and isl_marks<80:\n",
    "    print(\"B grade in Islamiat and marks is= \"+str(isl_marks))\n",
    "elif isl_marks>=60 and isl_marks<70:\n",
    "    print(\"C grade in Islamiat and marks is= \"+str(isl_marks))\n",
    "elif isl_marks>=50 and isl_marks<60:\n",
    "    print(\"D grade in Islamiat and marks is= \"+str(isl_marks))\n",
    "elif isl_marks>=33:\n",
    "    print(\"E grade in ISlamiat and marks is= \"+str(isl_marks))\n",
    "else:print(\"Fail in ISlamiat and marks is\"+str(isl_marks))\n",
    "math_marks=int(input(\"Enter math marks= \"))\n",
    "if math_marks>=80 and math_marks<=100:\n",
    "    print(\"A grade in Math and marks is= \"+str(math_marks))\n",
    "elif math_marks>=70 and math_marks<80:\n",
    "    print(\"B grade in Math and marks is= \"+str(math_marks))\n",
    "elif math_marks>=60 and math_marks<70:\n",
    "    print(\"C grade in Math and marks is= \"+str(math_marks))\n",
    "elif math_marks>50 and math_marks<60:\n",
    "    print(\"D grade in Math and marks is= \"+str(math_marks))\n",
    "elif math_marks>=33 and math_marks<50:\n",
    "    print(\"E grade in Math and marks is= \"+str(math_marks))\n",
    "else:print(\"Fail in Math and marks is= \"+str(math_marks))\n",
    "\n",
    "chemistry_marks=int(input(\"Enter chemistry marks= \"))\n",
    "if chemistry_marks>=80 and chemistry_marks<=100:\n",
    "    print(\"A grade in Chemistry and marks is= \"+str(chemistry_marks))\n",
    "elif chemistry_marks>=70 and chemistry_marks<80:\n",
    "    print(\"B grade in Chemistry and marks is= \"+str(chemistry_marks))\n",
    "elif chemistry_marks>=60 and chemistry_marks<70:\n",
    "    print(\"C grade in Chemistry and marks is= \"+str(chemistry_marks))\n",
    "elif chemistry_marks>50 and chemistry_marks<60:\n",
    "    print(\"D grade in Chemistry and marks is= \"+str(chemistry_marks))\n",
    "elif chemistry_marks>=33 and chemistry_marks<50:\n",
    "    print(\"E grade in Chemistry and marks is= \"+str(chemistry_marks))\n",
    "else:print(\"Fail in Chemistry and marks is= \"+str(chemistry_marks))\n",
    "\n",
    "physics_marks=int(input(\"Enter Physics marks= \"))\n",
    "if physics_marks>=80 and physics_marks<=100:\n",
    "    print(\"A grade in physics and marks is= \"+str(physics_marks))\n",
    "elif physics_marks>=70 and physics_marks<80:\n",
    "    print(\"B grade in physics and marks is= \"+str(physics_marks))\n",
    "elif physics_marks>=60 and physics_marks<70:\n",
    "    print(\"C grade in physics and marks is= \"+str(physics_marks))\n",
    "elif physics_marks>50 and physics_marks<60:\n",
    "    print(\"D grade in physics and marks is= \"+str(physics_marks))\n",
    "elif physics_marks>=33 and physics_marks<50:\n",
    "    print(\"E grade in physics and marks is= \"+str(physics_marks))\n",
    "else:print(\"Fail in physics and marks is= \"+str(physics_marks))\n",
    "total=eng_marks+isl_marks+math_marks+chemistry_marks+physics_marks\n",
    "print(\"Total marks is= \"+str(total))\n",
    "\n"
   ]
  },
  {
   "cell_type": "code",
   "execution_count": 9,
   "id": "df59af83",
   "metadata": {},
   "outputs": [
    {
     "name": "stdout",
     "output_type": "stream",
     "text": [
      "Enter any number5\n",
      "Number is Odd\n"
     ]
    }
   ],
   "source": [
    "#Q8  Even ODD\n",
    "nmbr=int(input(\"Enter any number\"))\n",
    "if nmbr%2==0:\n",
    "    print(\"Number is even\")\n",
    "else:print(\"Number is Odd\")\n"
   ]
  },
  {
   "cell_type": "code",
   "execution_count": 10,
   "id": "49401c33",
   "metadata": {},
   "outputs": [
    {
     "name": "stdout",
     "output_type": "stream",
     "text": [
      "4\n"
     ]
    }
   ],
   "source": [
    "#Q9 length of list\n",
    "list=[\"adeel\",\"hamza\",\"adnan\",\"jameel\"]\n",
    "print(len(list))\n"
   ]
  },
  {
   "cell_type": "code",
   "execution_count": 13,
   "id": "a335fa77",
   "metadata": {},
   "outputs": [
    {
     "name": "stdout",
     "output_type": "stream",
     "text": [
      "Sum of numeric items in list is= 594\n"
     ]
    }
   ],
   "source": [
    "#10  Sum numeric item in list\n",
    "\n",
    "a = [10,20,30,40,50,60,70,80,90,55,89]\n",
    "print(\"Sum of numeric items in list is= \"+str(sum(a)))\n"
   ]
  },
  {
   "cell_type": "code",
   "execution_count": 15,
   "id": "f8725b09",
   "metadata": {},
   "outputs": [
    {
     "name": "stdout",
     "output_type": "stream",
     "text": [
      "Largest number in list is= 90\n"
     ]
    }
   ],
   "source": [
    "#Q11 largest number from a list\n",
    "b = [10,20,30,40,50,60,70,80,90,55,89]\n",
    "print(\"Largest number in list is= \"+str(max(b)))\n"
   ]
  },
  {
   "cell_type": "code",
   "execution_count": 16,
   "id": "dec6904e",
   "metadata": {},
   "outputs": [
    {
     "name": "stdout",
     "output_type": "stream",
     "text": [
      "[1, 1, 2, 3]\n"
     ]
    }
   ],
   "source": [
    "#Q12 Element of a list less than 5\n",
    "a = [1, 1, 2, 3, 5, 8, 13, 21, 34, 55, 89]\n",
    "d=[]\n",
    "for i in a:\n",
    "    if i<5:\n",
    "        d.append(i)\n",
    "print(d)"
   ]
  },
  {
   "cell_type": "code",
   "execution_count": null,
   "id": "5a023240",
   "metadata": {},
   "outputs": [],
   "source": []
  }
 ],
 "metadata": {
  "kernelspec": {
   "display_name": "Python 3",
   "language": "python",
   "name": "python3"
  },
  "language_info": {
   "codemirror_mode": {
    "name": "ipython",
    "version": 3
   },
   "file_extension": ".py",
   "mimetype": "text/x-python",
   "name": "python",
   "nbconvert_exporter": "python",
   "pygments_lexer": "ipython3",
   "version": "3.8.8"
  }
 },
 "nbformat": 4,
 "nbformat_minor": 5
}
